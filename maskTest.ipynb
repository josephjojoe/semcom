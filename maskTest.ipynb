{
 "cells": [
  {
   "cell_type": "code",
   "execution_count": 124,
   "metadata": {},
   "outputs": [],
   "source": [
    "# Do semantic compression on an image to get a smaller image, adjust the JPEG (?) compression ratio on the original image\n",
    "# to get a compressed image of the same size as the semantically compressed image, do the same thing for an entire dataset,\n",
    "# then train a model with k-fold validation and see if semantic compression performs better than JPEG compresssion. After\n",
    "# that, write a paper!\n",
    "\n",
    "import numpy as np\n",
    "import matplotlib.pyplot as plt\n",
    "from collections import deque"
   ]
  },
  {
   "cell_type": "code",
   "execution_count": 118,
   "metadata": {},
   "outputs": [
    {
     "data": {
      "text/plain": [
       "<matplotlib.image.AxesImage at 0x177a1c190>"
      ]
     },
     "execution_count": 118,
     "metadata": {},
     "output_type": "execute_result"
    },
    {
     "data": {
      "image/png": "[encoded data removed]",
      "text/plain": [
       "<Figure size 640x480 with 1 Axes>"
      ]
     },
     "metadata": {},
     "output_type": "display_data"
    }
   ],
   "source": [
    "mask = np.array([[0, 0, 0, 0, 0, 0, 0, 0],\n",
    "                [0, 0, 0, 0, 0, 0, 0, 0],\n",
    "                [0, 0, 1, 1, 1, 0, 0, 0],\n",
    "                [0, 0, 1, 0, 1, 0, 0, 0],\n",
    "                [0, 0, 1, 0, 1, 0, 0, 0],\n",
    "                [0, 0, 1, 0, 1, 0, 0, 0],\n",
    "                [0, 0, 1, 1, 1, 0, 0, 0],\n",
    "                [0, 0, 0, 0, 0, 0, 0, 0],\n",
    "                [0, 0, 0, 0, 0, 0, 1, 0],\n",
    "                [0, 0, 0, 0, 0, 0, 0, 0],])\n",
    "plt.imshow(mask)"
   ]
  },
  {
   "cell_type": "code",
   "execution_count": 125,
   "metadata": {},
   "outputs": [],
   "source": [
    "from collections import deque\n",
    "\n",
    "ROWS = mask.shape[0]\n",
    "COLUMNS = mask.shape[1]\n",
    "OUT_MASK_VALUE = 0\n",
    "INITIAL_MASK_VALUE = 1\n",
    "\n",
    "# Queue has default mask positions\n",
    "queue = deque()\n",
    "for i in range(ROWS):\n",
    "    for j in range(COLUMNS):\n",
    "        if mask[i, j] == INITIAL_MASK_VALUE:\n",
    "            queue.append((i, j))\n",
    "\n",
    "# BFS\n",
    "CYCLE = 2\n",
    "while queue:\n",
    "    next_queue = deque()\n",
    "    while queue:\n",
    "        i, j = queue.popleft()\n",
    "        for rowOffset in [-1, 0, 1]:\n",
    "            for columnOffset in [-1, 0, 1]:\n",
    "                neighbor_i = i + rowOffset\n",
    "                neighbor_j = j + columnOffset\n",
    "                if 0 <= neighbor_i < ROWS and 0 <= neighbor_j < COLUMNS:\n",
    "                    if mask[neighbor_i, neighbor_j] == OUT_MASK_VALUE:\n",
    "                        mask[neighbor_i, neighbor_j] = CYCLE\n",
    "                        next_queue.append((neighbor_i, neighbor_j))\n",
    "    queue = next_queue\n",
    "    CYCLE += 1"
   ]
  },
  {
   "cell_type": "code",
   "execution_count": 126,
   "metadata": {},
   "outputs": [
    {
     "data": {
      "text/plain": [
       "array([[3, 3, 3, 3, 3, 3, 3, 4],\n",
       "       [3, 2, 2, 2, 2, 2, 3, 4],\n",
       "       [3, 2, 1, 1, 1, 2, 3, 4],\n",
       "       [3, 2, 1, 2, 1, 2, 3, 4],\n",
       "       [3, 2, 1, 2, 1, 2, 3, 4],\n",
       "       [3, 2, 1, 2, 1, 2, 3, 4],\n",
       "       [3, 2, 1, 1, 1, 2, 3, 3],\n",
       "       [3, 2, 2, 2, 2, 2, 2, 2],\n",
       "       [3, 3, 3, 3, 3, 2, 1, 2],\n",
       "       [4, 4, 4, 4, 3, 2, 2, 2]])"
      ]
     },
     "execution_count": 126,
     "metadata": {},
     "output_type": "execute_result"
    }
   ],
   "source": [
    "mask"
   ]
  },
  {
   "cell_type": "code",
   "execution_count": 127,
   "metadata": {},
   "outputs": [
    {
     "data": {
      "text/plain": [
       "<matplotlib.image.AxesImage at 0x177b91110>"
      ]
     },
     "execution_count": 127,
     "metadata": {},
     "output_type": "execute_result"
    },
    {
     "data": {
      "image/png": "[encoded data removed]",
      "text/plain": [
       "<Figure size 640x480 with 1 Axes>"
      ]
     },
     "metadata": {},
     "output_type": "display_data"
    }
   ],
   "source": [
    "plt.imshow(mask)"
   ]
  }
 ],
 "metadata": {
  "kernelspec": {
   "display_name": "Python 3",
   "language": "python",
   "name": "python3"
  },
  "language_info": {
   "codemirror_mode": {
    "name": "ipython",
    "version": 3
   },
   "file_extension": ".py",
   "mimetype": "text/x-python",
   "name": "python",
   "nbconvert_exporter": "python",
   "pygments_lexer": "ipython3",
   "version": "3.11.5"
  }
 },
 "nbformat": 4,
 "nbformat_minor": 2
}
