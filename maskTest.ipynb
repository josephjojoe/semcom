{
 "cells": [
  {
   "cell_type": "code",
   "execution_count": null,
   "metadata": {},
   "outputs": [],
   "source": [
    "# Do semantic compression on an image to get a smaller image, adjust the JPEG (?) compression ratio on the original image\n",
    "# to get a compressed image of the same size as the semantically compressed image, do the same thing for an entire dataset,\n",
    "# then train a model with k-fold validation and see if semantic compression performs better than JPEG compresssion. After\n",
    "# that, write a paper!"
   ]
  }
 ],
 "metadata": {
  "language_info": {
   "name": "python"
  }
 },
 "nbformat": 4,
 "nbformat_minor": 2
}
